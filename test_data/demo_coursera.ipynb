{
 "cells": [
  {
   "cell_type": "code",
   "execution_count": 2,
   "metadata": {},
   "outputs": [],
   "source": [
    "import scipy.io\n",
    "import numpy as np\n",
    "import matplotlib.pyplot as plt\n",
    "from network import Sequential, costfunc, regularization_term, output_class\n",
    "from sklearn.model_selection import train_test_split"
   ]
  },
  {
   "cell_type": "code",
   "execution_count": 3,
   "metadata": {},
   "outputs": [
    {
     "name": "stdout",
     "output_type": "stream",
     "text": [
      "(25, 401)\n",
      "(10, 26)\n"
     ]
    }
   ],
   "source": [
    "# Weights data \n",
    "mat = scipy.io.loadmat('test_data/ex4weights.mat')\n",
    "arrays = {}\n",
    "for k, v in mat.items():\n",
    "    arrays[k] = np.array(v)\n",
    "Theta0 = arrays['Theta1']\n",
    "Theta1 = arrays['Theta2']\n",
    "\n",
    "print(np.shape(Theta0))\n",
    "print(np.shape(Theta1))"
   ]
  },
  {
   "cell_type": "code",
   "execution_count": 7,
   "metadata": {},
   "outputs": [
    {
     "name": "stdout",
     "output_type": "stream",
     "text": [
      "[[0. 0. 0. 1. 0. 0. 0. 0. 0. 0.]\n",
      " [0. 0. 0. 0. 0. 0. 0. 0. 1. 0.]\n",
      " [0. 1. 0. 0. 0. 0. 0. 0. 0. 0.]\n",
      " [0. 1. 0. 0. 0. 0. 0. 0. 0. 0.]\n",
      " [0. 0. 0. 0. 0. 0. 0. 0. 0. 1.]\n",
      " [0. 0. 0. 0. 0. 0. 0. 0. 1. 0.]\n",
      " [0. 0. 0. 0. 0. 0. 0. 1. 0. 0.]\n",
      " [0. 0. 0. 0. 0. 0. 0. 1. 0. 0.]\n",
      " [0. 0. 0. 0. 0. 0. 0. 0. 0. 1.]\n",
      " [0. 1. 0. 0. 0. 0. 0. 0. 0. 0.]]\n",
      "[[3]\n",
      " [8]\n",
      " [1]\n",
      " [1]\n",
      " [9]\n",
      " [8]\n",
      " [7]\n",
      " [7]\n",
      " [9]\n",
      " [1]]\n"
     ]
    }
   ],
   "source": [
    "np.random.seed(seed=37)\n",
    "# Training data \n",
    "mat = scipy.io.loadmat('test_data/ex4data1.mat')\n",
    "arrays = {}\n",
    "\n",
    "for k, v in mat.items():\n",
    "    arrays[k] = np.array(v)\n",
    "X = arrays['X']\n",
    "y_ = arrays['y']\n",
    "y_[y_ == 10] = 0\n",
    "\n",
    "y = np.zeros((np.size(y_),10))\n",
    "for i in range(np.size(y_)):\n",
    "    y[i,y_[i] ] = 1\n",
    "idx = np.random.randint(0,4999,10)\n",
    "# print(idx)\n",
    "print(y[idx,:])\n",
    "print(y_[idx,:])"
   ]
  },
  {
   "cell_type": "code",
   "execution_count": 8,
   "metadata": {},
   "outputs": [
    {
     "name": "stdout",
     "output_type": "stream",
     "text": [
      "step 0 cost 6.745929024077091, accuracy 10.24%\n",
      "step 1 cost 3.4348508272822458, accuracy 10.6%\n",
      "step 2 cost 3.243494947369233, accuracy 10.68%\n",
      "step 3 cost 3.230587236437102, accuracy 12.520000000000001%\n",
      "step 4 cost 3.2219514389356556, accuracy 15.76%\n",
      "step 5 cost 3.2137473296145673, accuracy 24.240000000000002%\n",
      "step 6 cost 3.205366725279811, accuracy 31.72%\n",
      "step 7 cost 3.1966069798317136, accuracy 36.480000000000004%\n",
      "step 8 cost 3.1873640295765004, accuracy 40.36%\n",
      "step 9 cost 3.1775665786346, accuracy 43.120000000000005%\n",
      "step 10 cost 3.1671589597045404, accuracy 46.12%\n",
      "step 11 cost 3.1560967865552074, accuracy 48.44%\n",
      "step 12 cost 3.144346150317429, accuracy 50.63999999999999%\n",
      "step 13 cost 3.131883830777094, accuracy 52.2%\n",
      "step 14 cost 3.1186977725083858, accuracy 54.08%\n",
      "step 15 cost 3.104787553871284, accuracy 55.60000000000001%\n",
      "step 16 cost 3.0901647115843285, accuracy 56.720000000000006%\n",
      "step 17 cost 3.0748528308167353, accuracy 57.76%\n",
      "step 18 cost 3.058887339438824, accuracy 59.08%\n",
      "step 19 cost 3.042314972722226, accuracy 59.68%\n",
      "step 20 cost 3.025192903855631, accuracy 60.31999999999999%\n",
      "step 21 cost 3.0075875640277028, accuracy 60.12%\n",
      "step 22 cost 2.9895732004546387, accuracy 60.56%\n",
      "step 23 cost 2.9712302391115295, accuracy 60.440000000000005%\n",
      "step 24 cost 2.9526435297791487, accuracy 61.160000000000004%\n",
      "step 25 cost 2.9339005542808034, accuracy 61.44%\n",
      "step 26 cost 2.9150896753096225, accuracy 61.480000000000004%\n",
      "step 27 cost 2.896298494405361, accuracy 61.8%\n",
      "step 28 cost 2.8776123750099596, accuracy 62.0%\n",
      "step 29 cost 2.8591131716967424, accuracy 62.0%\n",
      "step 30 cost 2.8408781911106873, accuracy 62.36000000000001%\n",
      "step 31 cost 2.822979395171149, accuracy 62.44%\n",
      "step 32 cost 2.8054828437138313, accuracy 62.760000000000005%\n",
      "step 33 cost 2.788448362715908, accuracy 63.0%\n",
      "step 34 cost 2.7719294159564134, accuracy 63.080000000000005%\n",
      "step 35 cost 2.755973152497207, accuracy 63.080000000000005%\n",
      "step 36 cost 2.740620599549057, accuracy 63.04%\n",
      "step 37 cost 2.7259069697450484, accuracy 63.2%\n",
      "step 38 cost 2.7118620531056106, accuracy 63.32%\n",
      "step 39 cost 2.6985106665381204, accuracy 63.519999999999996%\n",
      "step 40 cost 2.6858731370865434, accuracy 63.63999999999999%\n",
      "step 41 cost 2.6739657989142858, accuracy 63.75999999999999%\n",
      "step 42 cost 2.6628014878315542, accuracy 64.03999999999999%\n",
      "step 43 cost 2.6523900208204343, accuracy 64.2%\n",
      "step 44 cost 2.642738651305279, accuracy 64.4%\n",
      "step 45 cost 2.6338524937695533, accuracy 64.60000000000001%\n",
      "step 46 cost 2.625734913698578, accuracy 64.64%\n",
      "step 47 cost 2.6183878807349834, accuracy 64.8%\n",
      "step 48 cost 2.6118122844023905, accuracy 64.84%\n",
      "step 49 cost 2.6060082128301962, accuracy 64.92%\n"
     ]
    }
   ],
   "source": [
    "\n",
    "# Random weights\n",
    "X_train, X_test, y_train, y_test = train_test_split(X, y, test_size=0.5, random_state=42)\n",
    "layer_dims = [400, 25, 10]\n",
    "eps_init = 0.12\n",
    "weights= [\n",
    "            np.random.uniform(-eps_init, eps_init, (layer_dims[i + 1], layer_dims[i] + 1))\n",
    "            for i in range(len(layer_dims) -1)\n",
    "        ]\n",
    "model = Sequential(layer_dims, weights)\n",
    "alpha = .1 # Regularization parameter\n",
    "n_epochs = 50\n",
    "batch_size = len(y_train)\n",
    "\n",
    "for ie in range(n_epochs):\n",
    "    eta =   1.0 - 0.9*ie/n_epochs # Learning rate\n",
    "\n",
    "    model.zero_gradients()\n",
    "    y_pred = np.array(list(map(model, X_train, y_train)))\n",
    "    y_out = np.array(list(map(output_class,y_pred)))\n",
    "    model.make_gradients(alpha, batch_size)\n",
    "    scores = [np.allclose(youti,yi) for youti, yi in zip(y_out,y_train)]\n",
    "    accuracy = sum(scores)/batch_size\n",
    "    cost = sum(costfunc(yi, y_predi) for yi, y_predi in zip(y_train, y_pred))\n",
    "    reg_term = regularization_term(model.weights, alpha)\n",
    "    cost += reg_term\n",
    "    cost /= batch_size\n",
    "\n",
    "    for i in range(model.n_weights):\n",
    "        model.weights[i] -= eta*model.gradients[i] \n",
    "\n",
    "    if ie % 1 == 0:\n",
    "        print(f\"step {ie} cost {cost}, accuracy {accuracy*100}%\")"
   ]
  }
 ],
 "metadata": {
  "interpreter": {
   "hash": "d9949b58bee11fe3d7ad02dd649244511314abee14e4c4df24ba10a269e546ca"
  },
  "kernelspec": {
   "display_name": "Python 3.8.8 64-bit ('neural-network-wyFoAY0G-py3.8': poetry)",
   "language": "python",
   "name": "python3"
  },
  "language_info": {
   "codemirror_mode": {
    "name": "ipython",
    "version": 3
   },
   "file_extension": ".py",
   "mimetype": "text/x-python",
   "name": "python",
   "nbconvert_exporter": "python",
   "pygments_lexer": "ipython3",
   "version": "3.8.8"
  },
  "orig_nbformat": 4
 },
 "nbformat": 4,
 "nbformat_minor": 2
}
