{
 "cells": [
  {
   "cell_type": "code",
   "execution_count": 2,
   "metadata": {},
   "outputs": [],
   "source": [
    "import scipy.io\n",
    "import numpy as np\n",
    "import matplotlib.pyplot as plt\n",
    "from network import Sequential, costfunc, regularization_term, output_class\n",
    "from sklearn.model_selection import train_test_split"
   ]
  },
  {
   "cell_type": "code",
   "execution_count": 3,
   "metadata": {},
   "outputs": [
    {
     "data": {
      "image/png": "[encoded data removed]",
      "text/plain": [
       "<Figure size 360x360 with 1 Axes>"
      ]
     },
     "metadata": {
      "needs_background": "light"
     },
     "output_type": "display_data"
    },
    {
     "name": "stdout",
     "output_type": "stream",
     "text": [
      "[0 1 1 1 1 0 1 0 0 1 0 1 1 1 0]\n"
     ]
    }
   ],
   "source": [
    "# make up a dataset\n",
    "\n",
    "from sklearn.datasets import make_moons\n",
    "X, y = make_moons(n_samples=100, noise=0.1)\n",
    "\n",
    "# visualize in 2D\n",
    "plt.figure(figsize=(5,5))\n",
    "plt.scatter(X[:,0], X[:,1], c=y, s=20, cmap='jet')\n",
    "plt.show()\n",
    "print(y[5:20])"
   ]
  },
  {
   "cell_type": "code",
   "execution_count": 4,
   "metadata": {},
   "outputs": [
    {
     "name": "stdout",
     "output_type": "stream",
     "text": [
      "90\n",
      "step 0 cost [0.83064185], accuracy 34.44444444444444%\n",
      "step 1 cost [0.81302594], accuracy 50.0%\n",
      "step 2 cost [0.83722658], accuracy 50.0%\n",
      "step 3 cost [0.90906139], accuracy 50.0%\n",
      "step 4 cost [0.98918763], accuracy 50.0%\n",
      "step 5 cost [0.98110709], accuracy 50.0%\n",
      "step 6 cost [0.93722894], accuracy 50.0%\n",
      "step 7 cost [0.8596085], accuracy 50.0%\n",
      "step 8 cost [0.80425576], accuracy 50.0%\n",
      "step 9 cost [0.7438304], accuracy 50.0%\n",
      "step 10 cost [0.69890395], accuracy 50.0%\n",
      "step 11 cost [0.65456446], accuracy 50.0%\n",
      "step 12 cost [0.6199645], accuracy 54.44444444444444%\n",
      "step 13 cost [0.58769756], accuracy 70.0%\n",
      "step 14 cost [0.56194604], accuracy 73.33333333333333%\n",
      "step 15 cost [0.53910338], accuracy 81.11111111111111%\n",
      "step 16 cost [0.52075913], accuracy 76.66666666666667%\n",
      "step 17 cost [0.50514942], accuracy 80.0%\n",
      "step 18 cost [0.49247523], accuracy 75.55555555555556%\n",
      "step 19 cost [0.48178878], accuracy 78.88888888888889%\n",
      "step 20 cost [0.47278021], accuracy 75.55555555555556%\n",
      "step 21 cost [0.4649289], accuracy 77.77777777777779%\n",
      "step 22 cost [0.45795098], accuracy 75.55555555555556%\n",
      "step 23 cost [0.45160916], accuracy 75.55555555555556%\n",
      "step 24 cost [0.44576824], accuracy 76.66666666666667%\n",
      "step 25 cost [0.44033912], accuracy 76.66666666666667%\n",
      "step 26 cost [0.43526728], accuracy 76.66666666666667%\n",
      "step 27 cost [0.43051385], accuracy 76.66666666666667%\n",
      "step 28 cost [0.42604869], accuracy 76.66666666666667%\n",
      "step 29 cost [0.42184607], accuracy 76.66666666666667%\n",
      "step 30 cost [0.41788314], accuracy 76.66666666666667%\n",
      "step 31 cost [0.41413934], accuracy 78.88888888888889%\n",
      "step 32 cost [0.41059614], accuracy 78.88888888888889%\n",
      "step 33 cost [0.40723683], accuracy 80.0%\n",
      "step 34 cost [0.40404642], accuracy 80.0%\n",
      "step 35 cost [0.40101146], accuracy 80.0%\n",
      "step 36 cost [0.39811992], accuracy 80.0%\n",
      "step 37 cost [0.39536101], accuracy 80.0%\n",
      "step 38 cost [0.3927251], accuracy 80.0%\n",
      "step 39 cost [0.39020358], accuracy 80.0%\n",
      "step 40 cost [0.3877887], accuracy 80.0%\n",
      "step 41 cost [0.38547355], accuracy 80.0%\n",
      "step 42 cost [0.38325189], accuracy 80.0%\n",
      "step 43 cost [0.38111812], accuracy 80.0%\n",
      "step 44 cost [0.37906719], accuracy 80.0%\n",
      "step 45 cost [0.37709453], accuracy 80.0%\n",
      "step 46 cost [0.37519599], accuracy 80.0%\n",
      "step 47 cost [0.37336779], accuracy 80.0%\n",
      "step 48 cost [0.37160652], accuracy 81.11111111111111%\n",
      "step 49 cost [0.36990901], accuracy 81.11111111111111%\n",
      "step 50 cost [0.36827239], accuracy 81.11111111111111%\n",
      "step 51 cost [0.366694], accuracy 81.11111111111111%\n",
      "step 52 cost [0.36517138], accuracy 81.11111111111111%\n",
      "step 53 cost [0.36370226], accuracy 81.11111111111111%\n",
      "step 54 cost [0.36228453], accuracy 81.11111111111111%\n",
      "step 55 cost [0.36091622], accuracy 81.11111111111111%\n",
      "step 56 cost [0.35959548], accuracy 81.11111111111111%\n",
      "step 57 cost [0.35832059], accuracy 81.11111111111111%\n",
      "step 58 cost [0.35708992], accuracy 82.22222222222221%\n",
      "step 59 cost [0.35590195], accuracy 82.22222222222221%\n",
      "step 60 cost [0.35475521], accuracy 82.22222222222221%\n",
      "step 61 cost [0.35364836], accuracy 82.22222222222221%\n",
      "step 62 cost [0.35258008], accuracy 82.22222222222221%\n",
      "step 63 cost [0.35154914], accuracy 82.22222222222221%\n",
      "step 64 cost [0.35055436], accuracy 82.22222222222221%\n",
      "step 65 cost [0.34959463], accuracy 82.22222222222221%\n",
      "step 66 cost [0.34866886], accuracy 82.22222222222221%\n",
      "step 67 cost [0.34777603], accuracy 82.22222222222221%\n",
      "step 68 cost [0.34691517], accuracy 82.22222222222221%\n",
      "step 69 cost [0.34608533], accuracy 82.22222222222221%\n",
      "step 70 cost [0.34528562], accuracy 82.22222222222221%\n",
      "step 71 cost [0.34451516], accuracy 82.22222222222221%\n",
      "step 72 cost [0.34377313], accuracy 82.22222222222221%\n",
      "step 73 cost [0.34305874], accuracy 82.22222222222221%\n",
      "step 74 cost [0.34237121], accuracy 82.22222222222221%\n",
      "step 75 cost [0.34170982], accuracy 82.22222222222221%\n",
      "step 76 cost [0.34107386], accuracy 82.22222222222221%\n",
      "step 77 cost [0.34046266], accuracy 82.22222222222221%\n",
      "step 78 cost [0.33987556], accuracy 82.22222222222221%\n",
      "step 79 cost [0.33931194], accuracy 82.22222222222221%\n",
      "step 80 cost [0.3387712], accuracy 83.33333333333334%\n",
      "step 81 cost [0.33825276], accuracy 83.33333333333334%\n",
      "step 82 cost [0.33775609], accuracy 83.33333333333334%\n",
      "step 83 cost [0.33728064], accuracy 83.33333333333334%\n",
      "step 84 cost [0.33682592], accuracy 83.33333333333334%\n",
      "step 85 cost [0.33639144], accuracy 83.33333333333334%\n",
      "step 86 cost [0.33597674], accuracy 83.33333333333334%\n",
      "step 87 cost [0.33558138], accuracy 83.33333333333334%\n",
      "step 88 cost [0.33520494], accuracy 83.33333333333334%\n",
      "step 89 cost [0.33484702], accuracy 83.33333333333334%\n",
      "step 90 cost [0.33450723], accuracy 83.33333333333334%\n",
      "step 91 cost [0.33418522], accuracy 83.33333333333334%\n",
      "step 92 cost [0.33388065], accuracy 83.33333333333334%\n",
      "step 93 cost [0.33359318], accuracy 83.33333333333334%\n",
      "step 94 cost [0.33332252], accuracy 83.33333333333334%\n",
      "step 95 cost [0.33306837], accuracy 83.33333333333334%\n",
      "step 96 cost [0.33283046], accuracy 83.33333333333334%\n",
      "step 97 cost [0.33260855], accuracy 83.33333333333334%\n",
      "step 98 cost [0.33240238], accuracy 83.33333333333334%\n",
      "step 99 cost [0.33221174], accuracy 83.33333333333334%\n"
     ]
    }
   ],
   "source": [
    "\n",
    "# Random weights\n",
    "X_train, X_test, y_train, y_test = train_test_split(X, y, test_size=0.1, random_state=42)\n",
    "layer_dims = [2, 25, 25, 1]\n",
    "eps_init = 1\n",
    "weights= [\n",
    "            np.random.uniform(-eps_init, eps_init, (layer_dims[i + 1], layer_dims[i] + 1))\n",
    "            for i in range(len(layer_dims) -1)\n",
    "        ]\n",
    "model = Sequential(layer_dims, weights)\n",
    "alpha = 1e-4 # Regularization parameter\n",
    "n_epochs = 100\n",
    "batch_size = len(y_train)\n",
    "print(batch_size)\n",
    "\n",
    "for ie in range(n_epochs):\n",
    "    eta =   1.0 - .9*ie/n_epochs # Learning rate\n",
    "\n",
    "    model.zero_gradients()\n",
    "    y_pred = np.array(list(map(model, X_train, y_train)))\n",
    "    y_out = np.array(list(map(lambda yp: 1.*(yp > .5),y_pred)))\n",
    "    model.make_gradients(alpha, batch_size)\n",
    "    scores = [np.allclose(youti,yi) for youti, yi in zip(y_out,y_train)]\n",
    "    accuracy = sum(scores)/batch_size\n",
    "    cost = sum(costfunc(yi, y_predi) for yi, y_predi in zip(y_train, y_pred))\n",
    "    reg_term = regularization_term(model.weights, alpha)\n",
    "    cost += reg_term\n",
    "    cost /= batch_size\n",
    "\n",
    "    for i in range(model.n_weights):\n",
    "        model.weights[i] -= eta*model.gradients[i] \n",
    "\n",
    "    if ie % 1 == 0:\n",
    "        print(f\"step {ie} cost {cost}, accuracy {accuracy*100}%\")\n"
   ]
  },
  {
   "cell_type": "code",
   "execution_count": 52,
   "metadata": {},
   "outputs": [
    {
     "name": "stdout",
     "output_type": "stream",
     "text": [
      "[[0. 0. 1. 0. 0. 0. 0. 0. 0. 0.]\n",
      " [0. 0. 0. 0. 0. 0. 0. 1. 0. 0.]\n",
      " [1. 0. 0. 0. 0. 0. 0. 0. 0. 0.]\n",
      " [1. 0. 0. 0. 0. 0. 0. 0. 0. 0.]\n",
      " [0. 0. 0. 0. 0. 0. 0. 0. 1. 0.]\n",
      " [0. 0. 0. 0. 0. 0. 0. 1. 0. 0.]\n",
      " [0. 0. 0. 0. 0. 0. 1. 0. 0. 0.]\n",
      " [0. 0. 0. 0. 0. 0. 1. 0. 0. 0.]\n",
      " [0. 0. 0. 0. 0. 0. 0. 0. 1. 0.]\n",
      " [1. 0. 0. 0. 0. 0. 0. 0. 0. 0.]]\n",
      "[[3]\n",
      " [8]\n",
      " [1]\n",
      " [1]\n",
      " [9]\n",
      " [8]\n",
      " [7]\n",
      " [7]\n",
      " [9]\n",
      " [1]]\n",
      "5000\n"
     ]
    },
    {
     "data": {
      "text/plain": [
       "array([1], dtype=uint8)"
      ]
     },
     "execution_count": 52,
     "metadata": {},
     "output_type": "execute_result"
    },
    {
     "data": {
      "image/png": "[encoded data removed]",
      "text/plain": [
       "<Figure size 432x288 with 1 Axes>"
      ]
     },
     "metadata": {
      "needs_background": "light"
     },
     "output_type": "display_data"
    }
   ],
   "source": []
  },
  {
   "cell_type": "code",
   "execution_count": 2,
   "metadata": {},
   "outputs": [
    {
     "name": "stdout",
     "output_type": "stream",
     "text": [
      "(25, 401)\n",
      "(10, 26)\n"
     ]
    }
   ],
   "source": [
    "\n",
    "# Weights data \n",
    "mat = scipy.io.loadmat('test_data/ex4weights.mat')\n",
    "arrays = {}\n",
    "for k, v in mat.items():\n",
    "    arrays[k] = np.array(v)\n",
    "Theta0 = arrays['Theta1']\n",
    "Theta1 = arrays['Theta2']\n",
    "\n",
    "print(np.shape(Theta0))\n",
    "print(np.shape(Theta1))"
   ]
  },
  {
   "cell_type": "code",
   "execution_count": 75,
   "metadata": {},
   "outputs": [
    {
     "name": "stdout",
     "output_type": "stream",
     "text": [
      "[[0. 1. 0. 0. 0. 0. 0. 0. 0. 0.]\n",
      " [0. 0. 0. 0. 0. 1. 0. 0. 0. 0.]\n",
      " [0. 0. 0. 0. 0. 1. 0. 0. 0. 0.]\n",
      " [0. 0. 0. 0. 0. 1. 0. 0. 0. 0.]\n",
      " [0. 0. 0. 0. 1. 0. 0. 0. 0. 0.]\n",
      " [0. 0. 1. 0. 0. 0. 0. 0. 0. 0.]\n",
      " [0. 0. 0. 0. 0. 0. 0. 0. 1. 0.]\n",
      " [0. 0. 0. 0. 0. 1. 0. 0. 0. 0.]\n",
      " [0. 0. 0. 1. 0. 0. 0. 0. 0. 0.]\n",
      " [0. 0. 0. 0. 0. 0. 0. 1. 0. 0.]]\n",
      "(6000, 784)\n"
     ]
    }
   ],
   "source": [
    "from tensorflow import keras\n",
    "from keras.datasets import mnist\n",
    "from matplotlib import pyplot\n",
    " \n",
    "#loading\n",
    "(X_train, y_train), (X_test, y_test) = mnist.load_data()\n",
    "X_train, X_test, y_train, y_test = train_test_split(X_train, y_train, test_size=0.9, random_state=42)\n",
    "\n",
    "y = np.zeros((np.size(y_train),10))\n",
    "X = np.zeros((len(X_train),784))\n",
    "\n",
    "for i in range(np.size(y_train)):\n",
    "    y[i,y_train[i]] = 1\n",
    "    X[i] = np.reshape(X_train[i],784)\n",
    "idx = np.random.randint(0,4999,10)\n",
    "# print(idx)\n",
    "print(y[idx,:])\n",
    "print(np.shape(X))"
   ]
  },
  {
   "cell_type": "code",
   "execution_count": 78,
   "metadata": {},
   "outputs": [
    {
     "name": "stderr",
     "output_type": "stream",
     "text": [
      "/home/maximilian/Machine-Learning/Neural-Network/network/_nn.py:71: RuntimeWarning: overflow encountered in exp\n",
      "  \n"
     ]
    },
    {
     "name": "stdout",
     "output_type": "stream",
     "text": [
      "step 0 cost 6.936469008562339, accuracy 8.833333333333334%\n",
      "step 1 cost 3.5220452510846134, accuracy 9.933333333333334%\n",
      "step 2 cost 3.293499321449726, accuracy 11.933333333333334%\n",
      "step 3 cost 3.2478790760145038, accuracy 14.866666666666667%\n",
      "step 4 cost 3.2145212942641144, accuracy 23.233333333333334%\n",
      "step 5 cost 3.1850639240376295, accuracy 26.73333333333333%\n",
      "step 6 cost 3.154592580810903, accuracy 25.333333333333336%\n",
      "step 7 cost 3.1150294289521727, accuracy 28.7%\n",
      "step 8 cost 3.078684355906655, accuracy 32.86666666666667%\n",
      "step 9 cost 3.050406164315837, accuracy 33.7%\n",
      "step 10 cost 3.037241413025721, accuracy 28.133333333333333%\n",
      "step 11 cost 3.0354386124760278, accuracy 33.266666666666666%\n",
      "step 12 cost 2.9710925156914683, accuracy 37.2%\n",
      "step 13 cost 2.9367508342813657, accuracy 36.96666666666666%\n",
      "step 14 cost 2.920377333840663, accuracy 36.13333333333333%\n",
      "step 15 cost 2.8865249355245934, accuracy 39.4%\n",
      "step 16 cost 2.8512218692504137, accuracy 41.13333333333333%\n",
      "step 17 cost 2.829793272980094, accuracy 40.63333333333333%\n",
      "step 18 cost 2.8114552728425752, accuracy 42.4%\n",
      "step 19 cost 2.8292666638119153, accuracy 40.833333333333336%\n",
      "step 20 cost 2.7621007614960855, accuracy 47.93333333333333%\n"
     ]
    }
   ],
   "source": [
    "\n",
    "# Random weights\n",
    "X_train, X_test, y_train, y_test = train_test_split(X, y, test_size=0.5, random_state=42)\n",
    "layer_dims = [784, 25, 10]\n",
    "eps_init = 0.12\n",
    "weights= [\n",
    "            np.random.uniform(-eps_init, eps_init, (layer_dims[i + 1], layer_dims[i] + 1))\n",
    "            for i in range(len(layer_dims) -1)\n",
    "        ]\n",
    "model = Sequential(layer_dims, weights)\n",
    "alpha = .1 # Regularization parameter\n",
    "n_epochs = 50\n",
    "batch_size = len(y_train)\n",
    "\n",
    "for ie in range(n_epochs):\n",
    "    eta =   1.0 - 0.9*ie/n_epochs # Learning rate\n",
    "\n",
    "    model.zero_gradients()\n",
    "    y_pred = np.array(list(map(model, X_train, y_train)))\n",
    "    y_out = np.array(list(map(output_class,y_pred)))\n",
    "    model.make_gradients(alpha, batch_size)\n",
    "    scores = [np.allclose(youti,yi) for youti, yi in zip(y_out,y_train)]\n",
    "    accuracy = sum(scores)/batch_size\n",
    "    cost = sum(costfunc(yi, y_predi) for yi, y_predi in zip(y_train, y_pred))\n",
    "    reg_term = regularization_term(model.weights, alpha)\n",
    "    cost += reg_term\n",
    "    cost /= batch_size\n",
    "\n",
    "    for i in range(model.n_weights):\n",
    "        model.weights[i] -= eta*model.gradients[i] \n",
    "\n",
    "    if ie % 1 == 0:\n",
    "        print(f\"step {ie} cost {cost}, accuracy {accuracy*100}%\")"
   ]
  }
 ],
 "metadata": {
  "interpreter": {
   "hash": "6b904f24ae62649235954e4f8f8fba480c868e870c30d0ea44e2dded811f72e6"
  },
  "kernelspec": {
   "display_name": "Python 3",
   "language": "python",
   "name": "python3"
  },
  "language_info": {
   "codemirror_mode": {
    "name": "ipython",
    "version": 3
   },
   "file_extension": ".py",
   "mimetype": "text/x-python",
   "name": "python",
   "nbconvert_exporter": "python",
   "pygments_lexer": "ipython3",
   "version": "3.8.8"
  },
  "orig_nbformat": 4
 },
 "nbformat": 4,
 "nbformat_minor": 2
}
