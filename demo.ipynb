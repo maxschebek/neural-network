{
 "cells": [
  {
   "cell_type": "code",
   "execution_count": 97,
   "metadata": {},
   "outputs": [
    {
     "name": "stdout",
     "output_type": "stream",
     "text": [
      "[[0. 0. 0. 1. 0. 0. 0. 0. 0. 0.]\n",
      " [0. 0. 0. 0. 0. 0. 0. 0. 1. 0.]\n",
      " [0. 1. 0. 0. 0. 0. 0. 0. 0. 0.]\n",
      " [0. 1. 0. 0. 0. 0. 0. 0. 0. 0.]\n",
      " [0. 0. 0. 0. 0. 0. 0. 0. 0. 1.]\n",
      " [0. 0. 0. 0. 0. 0. 0. 0. 1. 0.]\n",
      " [0. 0. 0. 0. 0. 0. 0. 1. 0. 0.]\n",
      " [0. 0. 0. 0. 0. 0. 0. 1. 0. 0.]\n",
      " [0. 0. 0. 0. 0. 0. 0. 0. 0. 1.]\n",
      " [0. 1. 0. 0. 0. 0. 0. 0. 0. 0.]]\n",
      "[[3]\n",
      " [8]\n",
      " [1]\n",
      " [1]\n",
      " [9]\n",
      " [8]\n",
      " [7]\n",
      " [7]\n",
      " [9]\n",
      " [1]]\n"
     ]
    }
   ],
   "source": [
    "import scipy.io\n",
    "import numpy as np\n",
    "np.random.seed(seed=37)\n",
    "# Training data \n",
    "mat = scipy.io.loadmat('test_data/ex4data1.mat')\n",
    "arrays = {}\n",
    "\n",
    "for k, v in mat.items():\n",
    "    arrays[k] = np.array(v)\n",
    "X = arrays['X']\n",
    "y_ = arrays['y']\n",
    "y_[y_ == 10] = 0\n",
    "\n",
    "y = np.zeros((np.size(y_),10))\n",
    "for i in range(np.size(y_)):\n",
    "    y[i,y_[i] ] = 1\n",
    "idx = np.random.randint(0,4999,10)\n",
    "# print(idx)\n",
    "print(y[idx,:])\n",
    "print(y_[idx,:])\n",
    "\n"
   ]
  },
  {
   "cell_type": "code",
   "execution_count": 59,
   "metadata": {},
   "outputs": [
    {
     "name": "stdout",
     "output_type": "stream",
     "text": [
      "(25, 401)\n",
      "(10, 26)\n"
     ]
    }
   ],
   "source": [
    "# Weights data \n",
    "mat = scipy.io.loadmat('test_data/ex4weights.mat')\n",
    "arrays = {}\n",
    "for k, v in mat.items():\n",
    "    arrays[k] = np.array(v)\n",
    "Theta0 = arrays['Theta1']\n",
    "Theta1 = arrays['Theta2']\n",
    "\n",
    "print(np.shape(Theta0))\n",
    "print(np.shape(Theta1))\n"
   ]
  },
  {
   "cell_type": "code",
   "execution_count": 72,
   "metadata": {},
   "outputs": [],
   "source": [
    "from network import Sequential\n",
    "\n",
    "model = Sequential([400,25,10])\n",
    "model.weights[0][:,:] = Theta0\n",
    "model.weights[1][:,:] = Theta1\n"
   ]
  },
  {
   "cell_type": "code",
   "execution_count": 4,
   "metadata": {},
   "outputs": [],
   "source": [
    "def costfunc(y,y_pred):\n",
    "    n_samples = np.shape(y)[0]\n",
    "    cost = 0\n",
    "    for isp in range(n_samples):\n",
    "            cost += -np.dot(y[isp,:],np.log(y_pred[isp,:])) - np.dot((1 - y[isp,:]),np.log(1 - y_pred[isp,:]))\n",
    "    return 1/n_samples * cost \n"
   ]
  },
  {
   "cell_type": "code",
   "execution_count": 27,
   "metadata": {},
   "outputs": [
    {
     "name": "stdout",
     "output_type": "stream",
     "text": [
      "(4,)\n",
      "(3, 4)\n",
      "[0.22426417 0.20640222]\n"
     ]
    }
   ],
   "source": [
    "# Test cost function and forward propagation\n",
    "from network import Sequential\n",
    "import numpy as np\n",
    "model = Sequential([2,2,4])\n",
    "X = np.cos([[1, 2], [3, 4] , [5,6]])\n",
    "y =  np.array([ [0., 0., 0., 1],\n",
    "                [0., 1., 0., 0.],\n",
    "                [0., 0., 1., 0.] ]) # = np.array([4,2,3])\n",
    "\n",
    "# print(np.shape(model.weights[1])) \n",
    "params = np.arange(1,19)/10\n",
    "model.weights[0][:,:] = np.reshape(params[0:6],(2,3),'F')\n",
    "model.weights[1][:,:] =  np.reshape(params[6:18],(4,3),'F')\n",
    "y_pred = model.propagate_forward(X[0])\n",
    "print(np.shape(y_pred))\n",
    "y_pred = np.array(list(map(model.propagate_forward,X)))\n",
    "print(np.shape(y_pred))\n",
    "print(model.layers_b[1])\n",
    "\n",
    "\n",
    "\n",
    "\n"
   ]
  },
  {
   "cell_type": "code",
   "execution_count": 2,
   "metadata": {},
   "outputs": [
    {
     "data": {
      "text/plain": [
       "array([[0.88341721, 0.45931355, 0.47833662],\n",
       "       [0.56876234, 0.34461818, 0.36892041],\n",
       "       [0.58466766, 0.25631333, 0.25977062],\n",
       "       [0.59813924, 0.31188506, 0.32233089]])"
      ]
     },
     "execution_count": 2,
     "metadata": {},
     "output_type": "execute_result"
    }
   ],
   "source": [
    "# Test cost function and forward propagation\n",
    "from network import Sequential\n",
    "import numpy as np\n",
    "X = np.cos([[1, 2], [3, 4] , [5,6]])\n",
    "y =  np.array([ [0., 0., 0., 1],\n",
    "                [0., 1., 0., 0.],\n",
    "                [0., 0., 1., 0.] ]) # = np.array([4,2,3])\n",
    "\n",
    "# print(np.shape(model.weights[1])) \n",
    "params = np.arange(1, 19) / 10\n",
    "weights = [ np.reshape(params[0:6], (2, 3), \"F\"),np.reshape(params[6:18], (4, 3), \"F\") ]\n",
    "model = Sequential([2, 2, 4],weights)\n",
    "y_pred = np.array(list(map(model.propagate_forward,X)))\n",
    "\n",
    "accum = np.zeros((2,3))\n",
    "y_pred = np.zeros(np.shape(y))\n",
    "for i in range(3):\n",
    "    y_pred[i] = model.propagate_forward(X[i])\n",
    "    model.propagate_backward(y_pred[i] - y[i] ) \n",
    "    accum += model.accumulators[-2]\n",
    "model.accumulators[-1]/3\n"
   ]
  },
  {
   "cell_type": "code",
   "execution_count": 9,
   "metadata": {},
   "outputs": [
    {
     "data": {
      "text/plain": [
       "7.406969856065747"
      ]
     },
     "execution_count": 9,
     "metadata": {},
     "output_type": "execute_result"
    }
   ],
   "source": []
  }
 ],
 "metadata": {
  "interpreter": {
   "hash": "6b904f24ae62649235954e4f8f8fba480c868e870c30d0ea44e2dded811f72e6"
  },
  "kernelspec": {
   "display_name": "Python 3.9.6 64-bit ('pm_dev': conda)",
   "language": "python",
   "name": "python3"
  },
  "language_info": {
   "codemirror_mode": {
    "name": "ipython",
    "version": 3
   },
   "file_extension": ".py",
   "mimetype": "text/x-python",
   "name": "python",
   "nbconvert_exporter": "python",
   "pygments_lexer": "ipython3",
   "version": "3.8.8"
  },
  "orig_nbformat": 4
 },
 "nbformat": 4,
 "nbformat_minor": 2
}
