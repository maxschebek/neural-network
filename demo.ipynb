{
 "cells": [
  {
   "cell_type": "code",
   "execution_count": 97,
   "metadata": {},
   "outputs": [
    {
     "name": "stdout",
     "output_type": "stream",
     "text": [
      "[[0. 0. 0. 1. 0. 0. 0. 0. 0. 0.]\n",
      " [0. 0. 0. 0. 0. 0. 0. 0. 1. 0.]\n",
      " [0. 1. 0. 0. 0. 0. 0. 0. 0. 0.]\n",
      " [0. 1. 0. 0. 0. 0. 0. 0. 0. 0.]\n",
      " [0. 0. 0. 0. 0. 0. 0. 0. 0. 1.]\n",
      " [0. 0. 0. 0. 0. 0. 0. 0. 1. 0.]\n",
      " [0. 0. 0. 0. 0. 0. 0. 1. 0. 0.]\n",
      " [0. 0. 0. 0. 0. 0. 0. 1. 0. 0.]\n",
      " [0. 0. 0. 0. 0. 0. 0. 0. 0. 1.]\n",
      " [0. 1. 0. 0. 0. 0. 0. 0. 0. 0.]]\n",
      "[[3]\n",
      " [8]\n",
      " [1]\n",
      " [1]\n",
      " [9]\n",
      " [8]\n",
      " [7]\n",
      " [7]\n",
      " [9]\n",
      " [1]]\n"
     ]
    }
   ],
   "source": [
    "import scipy.io\n",
    "import numpy as np\n",
    "np.random.seed(seed=37)\n",
    "# Training data \n",
    "mat = scipy.io.loadmat('test_data/ex4data1.mat')\n",
    "arrays = {}\n",
    "\n",
    "for k, v in mat.items():\n",
    "    arrays[k] = np.array(v)\n",
    "X = arrays['X']\n",
    "y_ = arrays['y']\n",
    "y_[y_ == 10] = 0\n",
    "\n",
    "y = np.zeros((np.size(y_),10))\n",
    "for i in range(np.size(y_)):\n",
    "    y[i,y_[i] ] = 1\n",
    "idx = np.random.randint(0,4999,10)\n",
    "# print(idx)\n",
    "print(y[idx,:])\n",
    "print(y_[idx,:])\n",
    "\n"
   ]
  },
  {
   "cell_type": "code",
   "execution_count": 59,
   "metadata": {},
   "outputs": [
    {
     "name": "stdout",
     "output_type": "stream",
     "text": [
      "(25, 401)\n",
      "(10, 26)\n"
     ]
    }
   ],
   "source": [
    "# Weights data \n",
    "mat = scipy.io.loadmat('test_data/ex4weights.mat')\n",
    "arrays = {}\n",
    "for k, v in mat.items():\n",
    "    arrays[k] = np.array(v)\n",
    "Theta0 = arrays['Theta1']\n",
    "Theta1 = arrays['Theta2']\n",
    "\n",
    "print(np.shape(Theta0))\n",
    "print(np.shape(Theta1))\n"
   ]
  },
  {
   "cell_type": "code",
   "execution_count": 72,
   "metadata": {},
   "outputs": [],
   "source": [
    "from network import Sequential\n",
    "\n",
    "model = Sequential([400,25,10])\n",
    "model.weights[0][:,:] = Theta0\n",
    "model.weights[1][:,:] = Theta1\n"
   ]
  },
  {
   "cell_type": "code",
   "execution_count": 4,
   "metadata": {},
   "outputs": [],
   "source": [
    "def costfunc(y,y_pred):\n",
    "    n_samples = np.shape(y)[0]\n",
    "    cost = 0\n",
    "    for isp in range(n_samples):\n",
    "            cost += -np.dot(y[isp,:],np.log(y_pred[isp,:])) - np.dot((1 - y[isp,:]),np.log(1 - y_pred[isp,:]))\n",
    "    return 1/n_samples * cost \n"
   ]
  },
  {
   "cell_type": "code",
   "execution_count": 27,
   "metadata": {},
   "outputs": [
    {
     "name": "stdout",
     "output_type": "stream",
     "text": [
      "(4,)\n",
      "(3, 4)\n",
      "[0.22426417 0.20640222]\n"
     ]
    }
   ],
   "source": [
    "# Test cost function and forward propagation\n",
    "from network import Sequential\n",
    "import numpy as np\n",
    "model = Sequential([2,2,4])\n",
    "X = np.cos([[1, 2], [3, 4] , [5,6]])\n",
    "y =  np.array([ [0., 0., 0., 1],\n",
    "                [0., 1., 0., 0.],\n",
    "                [0., 0., 1., 0.] ]) # = np.array([4,2,3])\n",
    "\n",
    "# print(np.shape(model.weights[1])) \n",
    "params = np.arange(1,19)/10\n",
    "model.weights[0][:,:] = np.reshape(params[0:6],(2,3),'F')\n",
    "model.weights[1][:,:] =  np.reshape(params[6:18],(4,3),'F')\n",
    "y_pred = model.propagate_forward(X[0])\n",
    "print(np.shape(y_pred))\n",
    "y_pred = np.array(list(map(model.propagate_forward,X)))\n",
    "print(np.shape(y_pred))\n",
    "print(model.layers_b[1])\n",
    "\n",
    "\n",
    "\n",
    "\n"
   ]
  },
  {
   "cell_type": "code",
   "execution_count": 2,
   "metadata": {},
   "outputs": [
    {
     "output_type": "execute_result",
     "data": {
      "text/plain": [
       "array([[0.76613837, 0.37246038, 0.64173788],\n",
       "       [0.97989687, 0.49748912, 0.74613831]])"
      ]
     },
     "metadata": {},
     "execution_count": 2
    }
   ],
   "source": [
    "# Test cost function and forward propagation\n",
    "from network import Sequential, costfunc, regularization_term\n",
    "import numpy as np\n",
    "X = np.cos([[1, 2], [3, 4] , [5,6]])\n",
    "y =  np.array([ [0., 0., 0., 1],\n",
    "                [0., 1., 0., 0.],\n",
    "                [0., 0., 1., 0.] ]) # = np.array([4,2,3])\n",
    "\n",
    "# print(np.shape(model.weights[1])) \n",
    "params = np.arange(1, 19) / 10\n",
    "weights = [ np.reshape(params[0:6], (2, 3), \"F\"),np.reshape(params[6:18], (4, 3), \"F\") ]\n",
    "model = Sequential([2, 2, 4],weights)\n",
    "y_pred = np.array(list(map(model.propagate_forward,X)))\n",
    "\n",
    "accum = np.zeros((2,3))\n",
    "y_pred = np.zeros(np.shape(y))\n",
    "cost = np.zeros(1)\n",
    "reg_par = 4\n",
    "for i in range(3):\n",
    "    y_pred[i] = model.propagate_forward(X[i])\n",
    "    model.propagate_backward(y_pred[i] - y[i] ) \n",
    "    accum += model.accumulators[-2]\n",
    "    cost += costfunc(y[i],y_pred[i])\n",
    "\n",
    "model.make_gradients(reg_par,len(y))\n",
    "reg = regularization_term(weights,reg_par)\n",
    "cost += reg\n",
    "cost /= len(y)\n",
    "\n",
    "model.gradients[-2]\n"
   ]
  },
  {
   "cell_type": "code",
   "execution_count": 9,
   "metadata": {},
   "outputs": [
    {
     "output_type": "execute_result",
     "data": {
      "text/plain": [
       "array([[0.88342, 1.92598, 2.47834],\n",
       "       [0.56876, 1.94462, 2.50225],\n",
       "       [0.58467, 1.98965, 2.52644],\n",
       "       [0.59814, 2.17855, 2.72233]])"
      ]
     },
     "metadata": {},
     "execution_count": 9
    }
   ],
   "source": [
    "a = np.array([0.76614,\n",
    "0.97990,\n",
    "0.37246,\n",
    "0.49749,\n",
    "0.64174,\n",
    "0.74614,\n",
    "0.88342,\n",
    "0.56876,\n",
    "0.58467,\n",
    "0.59814,\n",
    "1.92598,\n",
    "1.94462,\n",
    "1.98965,\n",
    "2.17855,\n",
    "2.47834,\n",
    "2.50225,\n",
    "2.52644,\n",
    "2.72233])\n",
    "b = np.reshape(a[6:],(4,3) ,\"F\")\n",
    "b"
   ]
  }
 ],
 "metadata": {
  "interpreter": {
   "hash": "6b904f24ae62649235954e4f8f8fba480c868e870c30d0ea44e2dded811f72e6"
  },
  "kernelspec": {
   "display_name": "Python 3",
   "language": "python",
   "name": "python3"
  },
  "language_info": {
   "codemirror_mode": {
    "name": "ipython",
    "version": 3
   },
   "file_extension": ".py",
   "mimetype": "text/x-python",
   "name": "python",
   "nbconvert_exporter": "python",
   "pygments_lexer": "ipython3",
   "version": "3.7.3-final"
  },
  "orig_nbformat": 4
 },
 "nbformat": 4,
 "nbformat_minor": 2
}